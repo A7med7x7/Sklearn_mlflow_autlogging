{
 "cells": [
  {
   "cell_type": "code",
   "execution_count": null,
   "metadata": {},
   "outputs": [],
   "source": [
    "import mlflow\n",
    "import mlflow.sklearn\n",
    "from mlflow_log import log_gpu_info, log_git_info, log_python_env\n",
    "\n",
    "from sklearn.datasets import fetch_openml\n",
    "from sklearn.model_selection import train_test_split\n",
    "from sklearn.ensemble import RandomForestClassifier\n",
    "from sklearn.metrics import accuracy_score\n",
    "\n",
    "mlflow.set_experiment(\"adult-income-rf-model\")\n",
    "mlflow.sklearn.autolog(\n",
    "    log_models=True,\n",
    "    log_input_examples=True,\n",
    "    log_model_signatures=True,\n",
    "    log_datasets=True,\n",
    ")\n",
    "\n",
    "X, y = fetch_openml(name=\"adult\", version=2, as_frame=True, return_X_y=True)\n",
    "X = X.select_dtypes(include=[\"number\"]).fillna(0)  # simple preprocessing\n",
    "X_train, X_test, y_train, y_test = train_test_split(X, y, test_size=0.2, random_state=42)\n",
    "\n",
    "with mlflow.start_run(log_system_metrics=True):\n",
    "    clf = RandomForestClassifier(n_estimators=100, random_state=42)\n",
    "    clf.fit(X_train, y_train)\n",
    "    preds = clf.predict(X_test)\n",
    "    acc = accuracy_score(y_test, preds)\n",
    "    mlflow.sklearn.log_model(clf, artifact_path=\"model\")\n",
    "\n",
    "\n",
    "    mlflow.log_metric(\"final_accuracy\", acc)"
   ]
  }
 ],
 "metadata": {
  "kernelspec": {
   "display_name": "base",
   "language": "python",
   "name": "python3"
  },
  "language_info": {
   "codemirror_mode": {
    "name": "ipython",
    "version": 3
   },
   "file_extension": ".py",
   "mimetype": "text/x-python",
   "name": "python",
   "nbconvert_exporter": "python",
   "pygments_lexer": "ipython3",
   "version": "3.12.2"
  }
 },
 "nbformat": 4,
 "nbformat_minor": 5
}
